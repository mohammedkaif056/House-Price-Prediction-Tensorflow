{
 "cells": [
  {
   "cell_type": "markdown",
   "metadata": {},
   "source": [
    "# Basic Image Classification Model"
   ]
  },
  {
   "cell_type": "code",
   "execution_count": 2,
   "metadata": {},
   "outputs": [],
   "source": [
    "import tensorflow as tf"
   ]
  },
  {
   "cell_type": "code",
   "execution_count": 3,
   "metadata": {},
   "outputs": [
    {
     "data": {
      "text/plain": [
       "'2.15.0'"
      ]
     },
     "execution_count": 3,
     "metadata": {},
     "output_type": "execute_result"
    }
   ],
   "source": [
    "tf.__version__"
   ]
  },
  {
   "cell_type": "code",
   "execution_count": 4,
   "metadata": {},
   "outputs": [],
   "source": [
    "from tensorflow.keras.datasets import mnist"
   ]
  },
  {
   "cell_type": "code",
   "execution_count": 5,
   "metadata": {},
   "outputs": [
    {
     "name": "stdout",
     "output_type": "stream",
     "text": [
      "Downloading data from https://storage.googleapis.com/tensorflow/tf-keras-datasets/mnist.npz\n",
      "11490434/11490434 [==============================] - 16s 1us/step\n"
     ]
    }
   ],
   "source": [
    "(x_train, y_train), (x_test, y_test) = mnist.load_data()"
   ]
  },
  {
   "cell_type": "code",
   "execution_count": 6,
   "metadata": {},
   "outputs": [
    {
     "data": {
      "text/plain": [
       "(60000, 28, 28)"
      ]
     },
     "execution_count": 6,
     "metadata": {},
     "output_type": "execute_result"
    }
   ],
   "source": [
    "x_train.shape"
   ]
  },
  {
   "cell_type": "code",
   "execution_count": 7,
   "metadata": {},
   "outputs": [
    {
     "data": {
      "text/plain": [
       "(10000, 28, 28)"
      ]
     },
     "execution_count": 7,
     "metadata": {},
     "output_type": "execute_result"
    }
   ],
   "source": [
    "x_test.shape"
   ]
  },
  {
   "cell_type": "code",
   "execution_count": 8,
   "metadata": {},
   "outputs": [],
   "source": [
    "import matplotlib.pyplot as plt\n",
    "%matplotlib inline"
   ]
  },
  {
   "cell_type": "code",
   "execution_count": 9,
   "metadata": {},
   "outputs": [
    {
     "data": {
      "image/png": "[encoded data removed]",
      "text/plain": [
       "<Figure size 640x480 with 1 Axes>"
      ]
     },
     "metadata": {},
     "output_type": "display_data"
    }
   ],
   "source": [
    "plt.imshow(x_train[15], cmap= \"binary\")\n",
    "plt.show()"
   ]
  },
  {
   "cell_type": "code",
   "execution_count": 10,
   "metadata": {},
   "outputs": [
    {
     "data": {
      "text/plain": [
       "{0, 1, 2, 3, 4, 5, 6, 7, 8, 9}"
      ]
     },
     "execution_count": 10,
     "metadata": {},
     "output_type": "execute_result"
    }
   ],
   "source": [
    "set(y_train)"
   ]
  },
  {
   "cell_type": "code",
   "execution_count": 14,
   "metadata": {},
   "outputs": [
    {
     "data": {
      "text/plain": [
       "5"
      ]
     },
     "execution_count": 14,
     "metadata": {},
     "output_type": "execute_result"
    }
   ],
   "source": [
    "y_train[0]"
   ]
  },
  {
   "cell_type": "code",
   "execution_count": 15,
   "metadata": {},
   "outputs": [
    {
     "ename": "NameError",
     "evalue": "name 'y_train_enc' is not defined",
     "output_type": "error",
     "traceback": [
      "\u001b[1;31m---------------------------------------------------------------------------\u001b[0m",
      "\u001b[1;31mNameError\u001b[0m                                 Traceback (most recent call last)",
      "Cell \u001b[1;32mIn[15], line 1\u001b[0m\n\u001b[1;32m----> 1\u001b[0m y_train_enc[\u001b[38;5;241m0\u001b[39m]\n",
      "\u001b[1;31mNameError\u001b[0m: name 'y_train_enc' is not defined"
     ]
    }
   ],
   "source": [
    "y_train_enc[0]"
   ]
  },
  {
   "cell_type": "code",
   "execution_count": null,
   "metadata": {},
   "outputs": [],
   "source": [
    "y_train_enc[10]"
   ]
  },
  {
   "cell_type": "code",
   "execution_count": 18,
   "metadata": {},
   "outputs": [],
   "source": [
    "from tensorflow.keras.utils import to_categorical"
   ]
  },
  {
   "cell_type": "code",
   "execution_count": 19,
   "metadata": {},
   "outputs": [],
   "source": [
    "y_train_enc = to_categorical(y_train)\n",
    "y_test_enc = to_categorical(y_test)"
   ]
  },
  {
   "cell_type": "code",
   "execution_count": 20,
   "metadata": {},
   "outputs": [
    {
     "data": {
      "text/plain": [
       "(60000, 10)"
      ]
     },
     "execution_count": 20,
     "metadata": {},
     "output_type": "execute_result"
    }
   ],
   "source": [
    "y_train_enc.shape"
   ]
  },
  {
   "cell_type": "code",
   "execution_count": 21,
   "metadata": {},
   "outputs": [
    {
     "data": {
      "text/plain": [
       "(10000, 10)"
      ]
     },
     "execution_count": 21,
     "metadata": {},
     "output_type": "execute_result"
    }
   ],
   "source": [
    "y_test_enc.shape"
   ]
  },
  {
   "cell_type": "code",
   "execution_count": 24,
   "metadata": {},
   "outputs": [
    {
     "data": {
      "text/plain": [
       "(60000, 28, 28)"
      ]
     },
     "execution_count": 24,
     "metadata": {},
     "output_type": "execute_result"
    }
   ],
   "source": [
    "x_train.shape"
   ]
  },
  {
   "cell_type": "code",
   "execution_count": 25,
   "metadata": {},
   "outputs": [],
   "source": [
    "import numpy as np"
   ]
  },
  {
   "cell_type": "code",
   "execution_count": 27,
   "metadata": {},
   "outputs": [],
   "source": [
    "x_train_reshaped = np.reshape(x_train, (60000, 784))\n",
    "x_test_reshaped = np.reshape(x_test, (10000, 784))"
   ]
  },
  {
   "cell_type": "code",
   "execution_count": 28,
   "metadata": {},
   "outputs": [
    {
     "data": {
      "text/plain": [
       "(60000, 784)"
      ]
     },
     "execution_count": 28,
     "metadata": {},
     "output_type": "execute_result"
    }
   ],
   "source": [
    "x_train_reshaped.shape"
   ]
  },
  {
   "cell_type": "code",
   "execution_count": 29,
   "metadata": {},
   "outputs": [
    {
     "data": {
      "text/plain": [
       "(10000, 784)"
      ]
     },
     "execution_count": 29,
     "metadata": {},
     "output_type": "execute_result"
    }
   ],
   "source": [
    "x_test_reshaped.shape"
   ]
  },
  {
   "cell_type": "code",
   "execution_count": 31,
   "metadata": {},
   "outputs": [
    {
     "data": {
      "text/plain": [
       "array([  0,   0,   0,   0,   0,   0,   0,   0,   0,   0,   0,   0,   0,\n",
       "         0,   0,   0,   0,   0,   0,   0,   0,   0,   0,   0,   0,   0,\n",
       "         0,   0,   0,   0,   0,   0,   0,   0,   0,   0,   0,   0,   0,\n",
       "         0,   0,   0,   0,   0,   0,   0,   0,   0,   0,   0,   0,   0,\n",
       "         0,   0,   0,   0,   0,   0,   0,   0,   0,   0,   0,   0,   0,\n",
       "         0,   0,   0,   0,   0,   0,   0,   0,   0,   0,   0,   0,   0,\n",
       "         0,   0,   0,   0,   0,   0,   0,   0,   0,   0,   0,   0,   0,\n",
       "         0,   0,   0,   0,   0,   0,   0,   0,   0,   0,   0,   0,   0,\n",
       "         0,   0,   0,   0,   0,   0,   0,   0,   0,   0,   0,   0,   0,\n",
       "         0,   0,   0,   0,   0,   0,  42, 118, 219, 166, 118, 118,   6,\n",
       "         0,   0,   0,   0,   0,   0,   0,   0,   0,   0,   0,   0,   0,\n",
       "         0,   0,   0,   0,   0,   0,   0, 103, 242, 254, 254, 254, 254,\n",
       "       254,  66,   0,   0,   0,   0,   0,   0,   0,   0,   0,   0,   0,\n",
       "         0,   0,   0,   0,   0,   0,   0,   0,   0,  18, 232, 254, 254,\n",
       "       254, 254, 254, 238,  70,   0,   0,   0,   0,   0,   0,   0,   0,\n",
       "         0,   0,   0,   0,   0,   0,   0,   0,   0,   0,   0,   0, 104,\n",
       "       244, 254, 224, 254, 254, 254, 141,   0,   0,   0,   0,   0,   0,\n",
       "         0,   0,   0,   0,   0,   0,   0,   0,   0,   0,   0,   0,   0,\n",
       "         0,   0, 207, 254, 210, 254, 254, 254,  34,   0,   0,   0,   0,\n",
       "         0,   0,   0,   0,   0,   0,   0,   0,   0,   0,   0,   0,   0,\n",
       "         0,   0,   0,   0,  84, 206, 254, 254, 254, 254,  41,   0,   0,\n",
       "         0,   0,   0,   0,   0,   0,   0,   0,   0,   0,   0,   0,   0,\n",
       "         0,   0,   0,   0,   0,   0,   0,  24, 209, 254, 254, 254, 171,\n",
       "         0,   0,   0,   0,   0,   0,   0,   0,   0,   0,   0,   0,   0,\n",
       "         0,   0,   0,   0,   0,   0,   0,   0,  91, 137, 253, 254, 254,\n",
       "       254, 112,   0,   0,   0,   0,   0,   0,   0,   0,   0,   0,   0,\n",
       "         0,   0,   0,   0,   0,   0,   0,   0,  40, 214, 250, 254, 254,\n",
       "       254, 254, 254,  34,   0,   0,   0,   0,   0,   0,   0,   0,   0,\n",
       "         0,   0,   0,   0,   0,   0,   0,   0,   0,   0,  81, 247, 254,\n",
       "       254, 254, 254, 254, 254, 146,   0,   0,   0,   0,   0,   0,   0,\n",
       "         0,   0,   0,   0,   0,   0,   0,   0,   0,   0,   0,   0,   0,\n",
       "       110, 246, 254, 254, 254, 254, 254, 171,   0,   0,   0,   0,   0,\n",
       "         0,   0,   0,   0,   0,   0,   0,   0,   0,   0,   0,   0,   0,\n",
       "         0,   0,   0,  73,  89,  89,  93, 240, 254, 171,   0,   0,   0,\n",
       "         0,   0,   0,   0,   0,   0,   0,   0,   0,   0,   0,   0,   0,\n",
       "         0,   0,   0,   0,   0,   0,   0,   0,   1, 128, 254, 219,  31,\n",
       "         0,   0,   0,   0,   0,   0,   0,   0,   0,   0,   0,   0,   0,\n",
       "         0,   0,   0,   0,   0,   0,   0,   0,   0,   0,   7, 254, 254,\n",
       "       214,  28,   0,   0,   0,   0,   0,   0,   0,   0,   0,   0,   0,\n",
       "         0,   0,   0,   0,   0,   0,   0,   0,   0,   0,   0,   0, 138,\n",
       "       254, 254, 116,   0,   0,   0,   0,   0,   0,   0,   0,   0,   0,\n",
       "         0,   0,   0,   0,   0,  19, 177,  90,   0,   0,   0,   0,   0,\n",
       "        25, 240, 254, 254,  34,   0,   0,   0,   0,   0,   0,   0,   0,\n",
       "         0,   0,   0,   0,   0,   0,   0, 164, 254, 215,  63,  36,   0,\n",
       "        51,  89, 206, 254, 254, 139,   8,   0,   0,   0,   0,   0,   0,\n",
       "         0,   0,   0,   0,   0,   0,   0,   0,   0,  57, 197, 254, 254,\n",
       "       222, 180, 241, 254, 254, 253, 213,  11,   0,   0,   0,   0,   0,\n",
       "         0,   0,   0,   0,   0,   0,   0,   0,   0,   0,   0,   0, 140,\n",
       "       105, 254, 254, 254, 254, 254, 254, 236,   0,   0,   0,   0,   0,\n",
       "         0,   0,   0,   0,   0,   0,   0,   0,   0,   0,   0,   0,   0,\n",
       "         0,   0,   7, 117, 117, 165, 254, 254, 239,  50,   0,   0,   0,\n",
       "         0,   0,   0,   0,   0,   0,   0,   0,   0,   0,   0,   0,   0,\n",
       "         0,   0,   0,   0,   0,   0,   0,   0,   0,   0,   0,   0,   0,\n",
       "         0,   0,   0,   0,   0,   0,   0,   0,   0,   0,   0,   0,   0,\n",
       "         0,   0,   0,   0,   0,   0,   0,   0,   0,   0,   0,   0,   0,\n",
       "         0,   0,   0,   0,   0,   0,   0,   0,   0,   0,   0,   0,   0,\n",
       "         0,   0,   0,   0,   0,   0,   0,   0,   0,   0,   0,   0,   0,\n",
       "         0,   0,   0,   0,   0,   0,   0,   0,   0,   0,   0,   0,   0,\n",
       "         0,   0,   0,   0,   0,   0,   0,   0,   0,   0,   0,   0,   0,\n",
       "         0,   0,   0,   0,   0,   0,   0,   0,   0,   0,   0,   0,   0,\n",
       "         0,   0,   0,   0], dtype=uint8)"
      ]
     },
     "execution_count": 31,
     "metadata": {},
     "output_type": "execute_result"
    }
   ],
   "source": [
    "x_train_reshaped[10]"
   ]
  },
  {
   "cell_type": "code",
   "execution_count": 32,
   "metadata": {},
   "outputs": [],
   "source": [
    "x_mean = np.mean(x_train_reshaped)\n",
    "x_std = np.std(x_train_reshaped)"
   ]
  },
  {
   "cell_type": "code",
   "execution_count": 35,
   "metadata": {},
   "outputs": [],
   "source": [
    "epsilon = 1e-10"
   ]
  },
  {
   "cell_type": "code",
   "execution_count": 36,
   "metadata": {},
   "outputs": [],
   "source": [
    "x_train_norm = (x_train_reshaped - x_mean)/ (x_std + epsilon)\n",
    "x_test_norm = (x_test_reshaped - x_mean)/ (x_std + epsilon)"
   ]
  },
  {
   "cell_type": "code",
   "execution_count": 37,
   "metadata": {},
   "outputs": [
    {
     "data": {
      "text/plain": [
       "array([-0.42407389, -0.42407389, -0.42407389, -0.42407389, -0.42407389,\n",
       "       -0.42407389, -0.42407389, -0.42407389, -0.42407389, -0.42407389,\n",
       "       -0.42407389, -0.42407389, -0.42407389, -0.42407389, -0.42407389,\n",
       "       -0.42407389, -0.42407389, -0.42407389, -0.42407389, -0.42407389,\n",
       "       -0.42407389, -0.42407389, -0.42407389, -0.42407389, -0.42407389,\n",
       "       -0.42407389, -0.42407389, -0.42407389, -0.42407389, -0.42407389,\n",
       "       -0.42407389, -0.42407389, -0.42407389, -0.42407389, -0.42407389,\n",
       "       -0.42407389, -0.42407389, -0.42407389, -0.42407389, -0.42407389,\n",
       "       -0.42407389, -0.42407389, -0.42407389, -0.42407389, -0.42407389,\n",
       "       -0.42407389, -0.42407389, -0.42407389, -0.42407389, -0.42407389,\n",
       "       -0.42407389, -0.42407389, -0.42407389, -0.42407389, -0.42407389,\n",
       "       -0.42407389, -0.42407389, -0.42407389, -0.42407389, -0.42407389,\n",
       "       -0.42407389, -0.42407389, -0.42407389, -0.42407389, -0.42407389,\n",
       "       -0.42407389, -0.42407389, -0.42407389, -0.42407389, -0.42407389,\n",
       "       -0.42407389, -0.42407389, -0.42407389, -0.42407389, -0.42407389,\n",
       "       -0.42407389, -0.42407389, -0.42407389, -0.42407389, -0.42407389,\n",
       "       -0.42407389, -0.42407389, -0.42407389, -0.42407389, -0.42407389,\n",
       "       -0.42407389, -0.42407389, -0.42407389, -0.42407389, -0.42407389,\n",
       "       -0.42407389, -0.42407389, -0.42407389, -0.42407389, -0.42407389,\n",
       "       -0.42407389, -0.42407389, -0.42407389, -0.42407389, -0.42407389,\n",
       "       -0.42407389, -0.42407389, -0.42407389, -0.42407389, -0.42407389,\n",
       "       -0.42407389, -0.42407389, -0.42407389, -0.42407389, -0.42407389,\n",
       "       -0.42407389, -0.42407389, -0.42407389, -0.42407389, -0.42407389,\n",
       "       -0.42407389, -0.42407389, -0.42407389, -0.42407389, -0.42407389,\n",
       "       -0.42407389, -0.42407389, -0.42407389,  0.11049836,  1.07781957,\n",
       "        2.36333856,  1.68875929,  1.07781957,  1.07781957, -0.34770643,\n",
       "       -0.42407389, -0.42407389, -0.42407389, -0.42407389, -0.42407389,\n",
       "       -0.42407389, -0.42407389, -0.42407389, -0.42407389, -0.42407389,\n",
       "       -0.42407389, -0.42407389, -0.42407389, -0.42407389, -0.42407389,\n",
       "       -0.42407389, -0.42407389, -0.42407389, -0.42407389, -0.42407389,\n",
       "        0.88690091,  2.65608051,  2.80881543,  2.80881543,  2.80881543,\n",
       "        2.80881543,  2.80881543,  0.41596821, -0.42407389, -0.42407389,\n",
       "       -0.42407389, -0.42407389, -0.42407389, -0.42407389, -0.42407389,\n",
       "       -0.42407389, -0.42407389, -0.42407389, -0.42407389, -0.42407389,\n",
       "       -0.42407389, -0.42407389, -0.42407389, -0.42407389, -0.42407389,\n",
       "       -0.42407389, -0.42407389, -0.42407389, -0.1949715 ,  2.5288014 ,\n",
       "        2.80881543,  2.80881543,  2.80881543,  2.80881543,  2.80881543,\n",
       "        2.60516886,  0.46687986, -0.42407389, -0.42407389, -0.42407389,\n",
       "       -0.42407389, -0.42407389, -0.42407389, -0.42407389, -0.42407389,\n",
       "       -0.42407389, -0.42407389, -0.42407389, -0.42407389, -0.42407389,\n",
       "       -0.42407389, -0.42407389, -0.42407389, -0.42407389, -0.42407389,\n",
       "       -0.42407389, -0.42407389,  0.89962882,  2.68153633,  2.80881543,\n",
       "        2.42697811,  2.80881543,  2.80881543,  2.80881543,  1.37056152,\n",
       "       -0.42407389, -0.42407389, -0.42407389, -0.42407389, -0.42407389,\n",
       "       -0.42407389, -0.42407389, -0.42407389, -0.42407389, -0.42407389,\n",
       "       -0.42407389, -0.42407389, -0.42407389, -0.42407389, -0.42407389,\n",
       "       -0.42407389, -0.42407389, -0.42407389, -0.42407389, -0.42407389,\n",
       "       -0.42407389,  2.21060363,  2.80881543,  2.24878736,  2.80881543,\n",
       "        2.80881543,  2.80881543,  0.00867507, -0.42407389, -0.42407389,\n",
       "       -0.42407389, -0.42407389, -0.42407389, -0.42407389, -0.42407389,\n",
       "       -0.42407389, -0.42407389, -0.42407389, -0.42407389, -0.42407389,\n",
       "       -0.42407389, -0.42407389, -0.42407389, -0.42407389, -0.42407389,\n",
       "       -0.42407389, -0.42407389, -0.42407389, -0.42407389,  0.64507061,\n",
       "        2.19787572,  2.80881543,  2.80881543,  2.80881543,  2.80881543,\n",
       "        0.09777045, -0.42407389, -0.42407389, -0.42407389, -0.42407389,\n",
       "       -0.42407389, -0.42407389, -0.42407389, -0.42407389, -0.42407389,\n",
       "       -0.42407389, -0.42407389, -0.42407389, -0.42407389, -0.42407389,\n",
       "       -0.42407389, -0.42407389, -0.42407389, -0.42407389, -0.42407389,\n",
       "       -0.42407389, -0.42407389, -0.42407389, -0.11860404,  2.23605945,\n",
       "        2.80881543,  2.80881543,  2.80881543,  1.75239884, -0.42407389,\n",
       "       -0.42407389, -0.42407389, -0.42407389, -0.42407389, -0.42407389,\n",
       "       -0.42407389, -0.42407389, -0.42407389, -0.42407389, -0.42407389,\n",
       "       -0.42407389, -0.42407389, -0.42407389, -0.42407389, -0.42407389,\n",
       "       -0.42407389, -0.42407389, -0.42407389, -0.42407389, -0.42407389,\n",
       "        0.73416598,  1.31964988,  2.79608752,  2.80881543,  2.80881543,\n",
       "        2.80881543,  1.00145211, -0.42407389, -0.42407389, -0.42407389,\n",
       "       -0.42407389, -0.42407389, -0.42407389, -0.42407389, -0.42407389,\n",
       "       -0.42407389, -0.42407389, -0.42407389, -0.42407389, -0.42407389,\n",
       "       -0.42407389, -0.42407389, -0.42407389, -0.42407389, -0.42407389,\n",
       "       -0.42407389,  0.08504254,  2.29969901,  2.75790379,  2.80881543,\n",
       "        2.80881543,  2.80881543,  2.80881543,  2.80881543,  0.00867507,\n",
       "       -0.42407389, -0.42407389, -0.42407389, -0.42407389, -0.42407389,\n",
       "       -0.42407389, -0.42407389, -0.42407389, -0.42407389, -0.42407389,\n",
       "       -0.42407389, -0.42407389, -0.42407389, -0.42407389, -0.42407389,\n",
       "       -0.42407389, -0.42407389, -0.42407389, -0.42407389,  0.60688688,\n",
       "        2.71972006,  2.80881543,  2.80881543,  2.80881543,  2.80881543,\n",
       "        2.80881543,  2.80881543,  1.43420107, -0.42407389, -0.42407389,\n",
       "       -0.42407389, -0.42407389, -0.42407389, -0.42407389, -0.42407389,\n",
       "       -0.42407389, -0.42407389, -0.42407389, -0.42407389, -0.42407389,\n",
       "       -0.42407389, -0.42407389, -0.42407389, -0.42407389, -0.42407389,\n",
       "       -0.42407389, -0.42407389, -0.42407389,  0.97599629,  2.70699215,\n",
       "        2.80881543,  2.80881543,  2.80881543,  2.80881543,  2.80881543,\n",
       "        1.75239884, -0.42407389, -0.42407389, -0.42407389, -0.42407389,\n",
       "       -0.42407389, -0.42407389, -0.42407389, -0.42407389, -0.42407389,\n",
       "       -0.42407389, -0.42407389, -0.42407389, -0.42407389, -0.42407389,\n",
       "       -0.42407389, -0.42407389, -0.42407389, -0.42407389, -0.42407389,\n",
       "       -0.42407389, -0.42407389,  0.50506359,  0.70871016,  0.70871016,\n",
       "        0.7596218 ,  2.63062468,  2.80881543,  1.75239884, -0.42407389,\n",
       "       -0.42407389, -0.42407389, -0.42407389, -0.42407389, -0.42407389,\n",
       "       -0.42407389, -0.42407389, -0.42407389, -0.42407389, -0.42407389,\n",
       "       -0.42407389, -0.42407389, -0.42407389, -0.42407389, -0.42407389,\n",
       "       -0.42407389, -0.42407389, -0.42407389, -0.42407389, -0.42407389,\n",
       "       -0.42407389, -0.42407389, -0.42407389, -0.41134598,  1.20509868,\n",
       "        2.80881543,  2.36333856, -0.02950866, -0.42407389, -0.42407389,\n",
       "       -0.42407389, -0.42407389, -0.42407389, -0.42407389, -0.42407389,\n",
       "       -0.42407389, -0.42407389, -0.42407389, -0.42407389, -0.42407389,\n",
       "       -0.42407389, -0.42407389, -0.42407389, -0.42407389, -0.42407389,\n",
       "       -0.42407389, -0.42407389, -0.42407389, -0.42407389, -0.42407389,\n",
       "       -0.42407389, -0.33497852,  2.80881543,  2.80881543,  2.29969901,\n",
       "       -0.06769239, -0.42407389, -0.42407389, -0.42407389, -0.42407389,\n",
       "       -0.42407389, -0.42407389, -0.42407389, -0.42407389, -0.42407389,\n",
       "       -0.42407389, -0.42407389, -0.42407389, -0.42407389, -0.42407389,\n",
       "       -0.42407389, -0.42407389, -0.42407389, -0.42407389, -0.42407389,\n",
       "       -0.42407389, -0.42407389, -0.42407389, -0.42407389,  1.33237779,\n",
       "        2.80881543,  2.80881543,  1.05236375, -0.42407389, -0.42407389,\n",
       "       -0.42407389, -0.42407389, -0.42407389, -0.42407389, -0.42407389,\n",
       "       -0.42407389, -0.42407389, -0.42407389, -0.42407389, -0.42407389,\n",
       "       -0.42407389, -0.42407389, -0.42407389, -0.18224359,  1.82876631,\n",
       "        0.72143807, -0.42407389, -0.42407389, -0.42407389, -0.42407389,\n",
       "       -0.42407389, -0.10587613,  2.63062468,  2.80881543,  2.80881543,\n",
       "        0.00867507, -0.42407389, -0.42407389, -0.42407389, -0.42407389,\n",
       "       -0.42407389, -0.42407389, -0.42407389, -0.42407389, -0.42407389,\n",
       "       -0.42407389, -0.42407389, -0.42407389, -0.42407389, -0.42407389,\n",
       "       -0.42407389,  1.66330347,  2.80881543,  2.31242692,  0.37778448,\n",
       "        0.03413089, -0.42407389,  0.22504955,  0.70871016,  2.19787572,\n",
       "        2.80881543,  2.80881543,  1.3451057 , -0.32225061, -0.42407389,\n",
       "       -0.42407389, -0.42407389, -0.42407389, -0.42407389, -0.42407389,\n",
       "       -0.42407389, -0.42407389, -0.42407389, -0.42407389, -0.42407389,\n",
       "       -0.42407389, -0.42407389, -0.42407389, -0.42407389,  0.30141702,\n",
       "        2.08332452,  2.80881543,  2.80881543,  2.40152229,  1.86695004,\n",
       "        2.6433526 ,  2.80881543,  2.80881543,  2.79608752,  2.28697109,\n",
       "       -0.28406688, -0.42407389, -0.42407389, -0.42407389, -0.42407389,\n",
       "       -0.42407389, -0.42407389, -0.42407389, -0.42407389, -0.42407389,\n",
       "       -0.42407389, -0.42407389, -0.42407389, -0.42407389, -0.42407389,\n",
       "       -0.42407389, -0.42407389, -0.42407389,  1.35783361,  0.91235673,\n",
       "        2.80881543,  2.80881543,  2.80881543,  2.80881543,  2.80881543,\n",
       "        2.80881543,  2.57971304, -0.42407389, -0.42407389, -0.42407389,\n",
       "       -0.42407389, -0.42407389, -0.42407389, -0.42407389, -0.42407389,\n",
       "       -0.42407389, -0.42407389, -0.42407389, -0.42407389, -0.42407389,\n",
       "       -0.42407389, -0.42407389, -0.42407389, -0.42407389, -0.42407389,\n",
       "       -0.42407389, -0.42407389, -0.33497852,  1.06509166,  1.06509166,\n",
       "        1.67603138,  2.80881543,  2.80881543,  2.61789677,  0.21232164,\n",
       "       -0.42407389, -0.42407389, -0.42407389, -0.42407389, -0.42407389,\n",
       "       -0.42407389, -0.42407389, -0.42407389, -0.42407389, -0.42407389,\n",
       "       -0.42407389, -0.42407389, -0.42407389, -0.42407389, -0.42407389,\n",
       "       -0.42407389, -0.42407389, -0.42407389, -0.42407389, -0.42407389,\n",
       "       -0.42407389, -0.42407389, -0.42407389, -0.42407389, -0.42407389,\n",
       "       -0.42407389, -0.42407389, -0.42407389, -0.42407389, -0.42407389,\n",
       "       -0.42407389, -0.42407389, -0.42407389, -0.42407389, -0.42407389,\n",
       "       -0.42407389, -0.42407389, -0.42407389, -0.42407389, -0.42407389,\n",
       "       -0.42407389, -0.42407389, -0.42407389, -0.42407389, -0.42407389,\n",
       "       -0.42407389, -0.42407389, -0.42407389, -0.42407389, -0.42407389,\n",
       "       -0.42407389, -0.42407389, -0.42407389, -0.42407389, -0.42407389,\n",
       "       -0.42407389, -0.42407389, -0.42407389, -0.42407389, -0.42407389,\n",
       "       -0.42407389, -0.42407389, -0.42407389, -0.42407389, -0.42407389,\n",
       "       -0.42407389, -0.42407389, -0.42407389, -0.42407389, -0.42407389,\n",
       "       -0.42407389, -0.42407389, -0.42407389, -0.42407389, -0.42407389,\n",
       "       -0.42407389, -0.42407389, -0.42407389, -0.42407389, -0.42407389,\n",
       "       -0.42407389, -0.42407389, -0.42407389, -0.42407389, -0.42407389,\n",
       "       -0.42407389, -0.42407389, -0.42407389, -0.42407389, -0.42407389,\n",
       "       -0.42407389, -0.42407389, -0.42407389, -0.42407389, -0.42407389,\n",
       "       -0.42407389, -0.42407389, -0.42407389, -0.42407389, -0.42407389,\n",
       "       -0.42407389, -0.42407389, -0.42407389, -0.42407389, -0.42407389,\n",
       "       -0.42407389, -0.42407389, -0.42407389, -0.42407389, -0.42407389,\n",
       "       -0.42407389, -0.42407389, -0.42407389, -0.42407389, -0.42407389,\n",
       "       -0.42407389, -0.42407389, -0.42407389, -0.42407389, -0.42407389,\n",
       "       -0.42407389, -0.42407389, -0.42407389, -0.42407389])"
      ]
     },
     "execution_count": 37,
     "metadata": {},
     "output_type": "execute_result"
    }
   ],
   "source": [
    "x_train_norm[10]"
   ]
  },
  {
   "cell_type": "code",
   "execution_count": 39,
   "metadata": {},
   "outputs": [],
   "source": [
    "from tensorflow.keras.models import Sequential\n",
    "from tensorflow.keras.layers import Dense"
   ]
  },
  {
   "cell_type": "code",
   "execution_count": 40,
   "metadata": {},
   "outputs": [],
   "source": [
    "model = Sequential([\n",
    "    Dense(128, activation = \"relu\", input_shape = (784,)),\n",
    "    Dense(128, activation = \"relu\"),\n",
    "    Dense(10, activation = \"softmax\")\n",
    "])"
   ]
  },
  {
   "cell_type": "code",
   "execution_count": 41,
   "metadata": {},
   "outputs": [],
   "source": [
    "model.compile(optimizer= \"sgd\",\n",
    "             loss = \"categorical_crossentropy\",\n",
    "             metrics = [\"accuracy\"])"
   ]
  },
  {
   "cell_type": "code",
   "execution_count": 42,
   "metadata": {},
   "outputs": [
    {
     "name": "stdout",
     "output_type": "stream",
     "text": [
      "Model: \"sequential\"\n",
      "_________________________________________________________________\n",
      "Layer (type)                 Output Shape              Param #   \n",
      "=================================================================\n",
      "dense (Dense)                (None, 128)               100480    \n",
      "_________________________________________________________________\n",
      "dense_1 (Dense)              (None, 128)               16512     \n",
      "_________________________________________________________________\n",
      "dense_2 (Dense)              (None, 10)                1290      \n",
      "=================================================================\n",
      "Total params: 118,282\n",
      "Trainable params: 118,282\n",
      "Non-trainable params: 0\n",
      "_________________________________________________________________\n"
     ]
    }
   ],
   "source": [
    "model.summary()"
   ]
  },
  {
   "cell_type": "code",
   "execution_count": 43,
   "metadata": {},
   "outputs": [
    {
     "name": "stdout",
     "output_type": "stream",
     "text": [
      "Epoch 1/5\n",
      "1875/1875 [==============================] - 2s 1ms/step - loss: 0.3729 - accuracy: 0.8917\n",
      "Epoch 2/5\n",
      "1875/1875 [==============================] - 2s 1ms/step - loss: 0.1811 - accuracy: 0.9469\n",
      "Epoch 3/5\n",
      "1875/1875 [==============================] - 2s 965us/step - loss: 0.1362 - accuracy: 0.9604\n",
      "Epoch 4/5\n",
      "1875/1875 [==============================] - 2s 1ms/step - loss: 0.1099 - accuracy: 0.9683\n",
      "Epoch 5/5\n",
      "1875/1875 [==============================] - 2s 1ms/step - loss: 0.0921 - accuracy: 0.9732\n"
     ]
    },
    {
     "data": {
      "text/plain": [
       "<tensorflow.python.keras.callbacks.History at 0x1d5e56fb160>"
      ]
     },
     "execution_count": 43,
     "metadata": {},
     "output_type": "execute_result"
    }
   ],
   "source": [
    "model.fit(x_train_norm, y_train_enc, epochs=5)"
   ]
  },
  {
   "cell_type": "code",
   "execution_count": 44,
   "metadata": {},
   "outputs": [
    {
     "name": "stdout",
     "output_type": "stream",
     "text": [
      "313/313 [==============================] - 0s 849us/step - loss: 0.1022 - accuracy: 0.9670\n"
     ]
    }
   ],
   "source": [
    "accuracy = model.evaluate(x_test_norm, y_test_enc)"
   ]
  },
  {
   "cell_type": "code",
   "execution_count": 48,
   "metadata": {},
   "outputs": [],
   "source": [
    "preds = model.predict(x_test_norm)"
   ]
  },
  {
   "cell_type": "code",
   "execution_count": 49,
   "metadata": {},
   "outputs": [
    {
     "data": {
      "text/plain": [
       "(10000, 10)"
      ]
     },
     "execution_count": 49,
     "metadata": {},
     "output_type": "execute_result"
    }
   ],
   "source": [
    "pred.shape"
   ]
  },
  {
   "cell_type": "code",
   "execution_count": 47,
   "metadata": {},
   "outputs": [
    {
     "data": {
      "text/plain": [
       "array([2.5997493e-05, 2.8169127e-06, 3.8318743e-04, 1.1430174e-03,\n",
       "       7.2687311e-07, 3.3907625e-06, 1.0770693e-07, 9.9839717e-01,\n",
       "       8.9839623e-06, 3.4668465e-05], dtype=float32)"
      ]
     },
     "execution_count": 47,
     "metadata": {},
     "output_type": "execute_result"
    }
   ],
   "source": [
    "pred[0]"
   ]
  },
  {
   "cell_type": "code",
   "execution_count": 51,
   "metadata": {},
   "outputs": [
    {
     "data": {
      "image/png": "[encoded data removed]",
      "text/plain": [
       "<Figure size 720x720 with 25 Axes>"
      ]
     },
     "metadata": {},
     "output_type": "display_data"
    }
   ],
   "source": [
    "plt.figure(figsize=(10,10))\n",
    "start_index = 0\n",
    "for i in range(25):\n",
    "    plt.subplot(5,5,i+1)\n",
    "    plt.grid(False)\n",
    "    plt.xticks([])\n",
    "    plt.yticks([])\n",
    "    pred = np.argmax(preds[start_index + i])\n",
    "    actual = y_test[start_index + i]\n",
    "    plt.xlabel(\"i= {}, pred= {}, actual= {}\".format(start_index, pred, actual))\n",
    "    plt.imshow(x_test[start_index + i], cmap= \"binary\")\n",
    "plt.show()"
   ]
  },
  {
   "cell_type": "code",
   "execution_count": 54,
   "metadata": {},
   "outputs": [
    {
     "data": {
      "image/png": "[encoded data removed]",
      "text/plain": [
       "<Figure size 432x288 with 1 Axes>"
      ]
     },
     "metadata": {
      "needs_background": "light"
     },
     "output_type": "display_data"
    }
   ],
   "source": [
    "plt.plot(preds[0])\n",
    "plt.show()"
   ]
  },
  {
   "cell_type": "code",
   "execution_count": null,
   "metadata": {},
   "outputs": [],
   "source": []
  }
 ],
 "metadata": {
  "kernelspec": {
   "display_name": "Python 3 (ipykernel)",
   "language": "python",
   "name": "python3"
  },
  "language_info": {
   "codemirror_mode": {
    "name": "ipython",
    "version": 3
   },
   "file_extension": ".py",
   "mimetype": "text/x-python",
   "name": "python",
   "nbconvert_exporter": "python",
   "pygments_lexer": "ipython3",
   "version": "3.11.5"
  }
 },
 "nbformat": 4,
 "nbformat_minor": 4
}
